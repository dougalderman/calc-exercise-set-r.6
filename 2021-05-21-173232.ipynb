{
 "cells": [
  {
   "cell_type": "code",
   "execution_count": 2,
   "metadata": {
    "collapsed": false
   },
   "outputs": [
    {
     "name": "stdout",
     "output_type": "stream",
     "text": [
      "\n",
      "Call:\n",
      "lm(formula = y ~ x)\n",
      "\n",
      "Coefficients:\n",
      "(Intercept)            x  \n",
      "     4.9848       0.1722  \n",
      "\n"
     ]
    },
    {
     "data": {
      "text/plain": [
       "\n",
       "Call:\n",
       "lm(formula = y ~ x)\n",
       "\n",
       "Residuals:\n",
       "      Min        1Q    Median        3Q       Max \n",
       "-0.112471 -0.058275 -0.009761  0.063884  0.120921 \n",
       "\n",
       "Coefficients:\n",
       "            Estimate Std. Error t value Pr(>|t|)    \n",
       "(Intercept) 4.984848   0.050301    99.1 2.68e-16 ***\n",
       "x           0.172203   0.006835    25.2 2.22e-10 ***\n",
       "---\n",
       "Signif. codes:  0 ‘***’ 0.001 ‘**’ 0.01 ‘*’ 0.05 ‘.’ 0.1 ‘ ’ 1\n",
       "\n",
       "Residual standard error: 0.08173 on 10 degrees of freedom\n",
       "Multiple R-squared:  0.9845,\tAdjusted R-squared:  0.9829 \n",
       "F-statistic: 634.8 on 1 and 10 DF,  p-value: 2.222e-10\n"
      ]
     },
     "execution_count": 2,
     "metadata": {
     },
     "output_type": "execute_result"
    }
   ],
   "source": [
    "x<-c(1,2,3,4,5,6,7,8,9,10,11,12)\n",
    "y<-c(5.25,5.25,5.5,5.75,5.75,6,6.25,6.25,6.5,6.75,7,7)\n",
    "relation<-lm(y~x)\n",
    "print(relation)\n",
    "summary(relation)"
   ]
  },
  {
   "cell_type": "code",
   "execution_count": 3,
   "metadata": {
    "collapsed": false
   },
   "outputs": [
    {
     "data": {
      "image/png": "[encoded data removed]",
      "text/plain": [
       "Plot with title “Linear Regression Example”"
      ]
     },
     "execution_count": 3,
     "metadata": {
      "image/png": {
       "height": 420,
       "width": 420
      }
     },
     "output_type": "execute_result"
    }
   ],
   "source": [
    "plot(x,y,col=\"blue\", main=\"Linear Regression Example\",abline(lm(y~x)), cex=1.3,pch=16,xlab=\"x\", ylab=\"y\")"
   ]
  },
  {
   "cell_type": "code",
   "execution_count": 4,
   "metadata": {
    "collapsed": false
   },
   "outputs": [
    {
     "data": {
      "text/html": [
       "<table class=\"dataframe\">\n",
       "<caption>A matrix: 2 × 2 of type dbl</caption>\n",
       "<thead>\n",
       "\t<tr><th></th><th scope=col>2.5 %</th><th scope=col>97.5 %</th></tr>\n",
       "</thead>\n",
       "<tbody>\n",
       "\t<tr><th scope=row>(Intercept)</th><td>4.8727702</td><td>5.0969267</td></tr>\n",
       "\t<tr><th scope=row>x</th><td>0.1569744</td><td>0.1874312</td></tr>\n",
       "</tbody>\n",
       "</table>\n"
      ],
      "text/latex": [
       "A matrix: 2 × 2 of type dbl\n",
       "\\begin{tabular}{r|ll}\n",
       "  & 2.5 \\% & 97.5 \\%\\\\\n",
       "\\hline\n",
       "\t(Intercept) & 4.8727702 & 5.0969267\\\\\n",
       "\tx & 0.1569744 & 0.1874312\\\\\n",
       "\\end{tabular}\n"
      ],
      "text/markdown": [
       "\n",
       "A matrix: 2 × 2 of type dbl\n",
       "\n",
       "| <!--/--> | 2.5 % | 97.5 % |\n",
       "|---|---|---|\n",
       "| (Intercept) | 4.8727702 | 5.0969267 |\n",
       "| x | 0.1569744 | 0.1874312 |\n",
       "\n"
      ],
      "text/plain": [
       "            2.5 %     97.5 %   \n",
       "(Intercept) 4.8727702 5.0969267\n",
       "x           0.1569744 0.1874312"
      ]
     },
     "execution_count": 4,
     "metadata": {
     },
     "output_type": "execute_result"
    }
   ],
   "source": [
    "confint(relation, level=0.95)"
   ]
  },
  {
   "cell_type": "code",
   "execution_count": 1,
   "metadata": {
    "collapsed": false
   },
   "outputs": [
    {
     "ename": "ERROR",
     "evalue": "Error in fitted(relation): object 'relation' not found\n",
     "output_type": "error",
     "traceback": [
      "Error in fitted(relation): object 'relation' not found\nTraceback:\n",
      "1. plot(fitted(relation), residuals(relation))",
      "2. fitted(relation)"
     ]
    }
   ],
   "source": [
    "plot(fitted(relation), residuals(relation))"
   ]
  },
  {
   "cell_type": "code",
   "execution_count": 7,
   "metadata": {
    "collapsed": false
   },
   "outputs": [
    {
     "name": "stdout",
     "output_type": "stream",
     "text": [
      "       1 \n",
      "6.018065 \n"
     ]
    }
   ],
   "source": [
    "prediction<-predict(relation,data.frame(x=6))\n",
    "print(prediction)"
   ]
  },
  {
   "cell_type": "code",
   "execution_count": 13,
   "metadata": {
    "collapsed": false
   },
   "outputs": [
    {
     "name": "stdout",
     "output_type": "stream",
     "text": [
      "\n",
      "Call:\n",
      "lm(formula = y ~ x + I(x^2) + I(x^3))\n",
      "\n",
      "Coefficients:\n",
      "(Intercept)            x       I(x^2)       I(x^3)  \n",
      "  5.1060606    0.0974303    0.0112804   -0.0004856  \n",
      "\n"
     ]
    },
    {
     "data": {
      "text/plain": [
       "\n",
       "Call:\n",
       "lm(formula = y ~ x + I(x^2) + I(x^3))\n",
       "\n",
       "Residuals:\n",
       "     Min       1Q   Median       3Q      Max \n",
       "-0.10881 -0.06146  0.01070  0.04573  0.10481 \n",
       "\n",
       "Coefficients:\n",
       "              Estimate Std. Error t value Pr(>|t|)    \n",
       "(Intercept)  5.1060606  0.1413228  36.130 3.77e-10 ***\n",
       "x            0.0974303  0.0903692   1.078    0.312    \n",
       "I(x^2)       0.0112804  0.0158282   0.713    0.496    \n",
       "I(x^3)      -0.0004856  0.0008026  -0.605    0.562    \n",
       "---\n",
       "Signif. codes:  0 ‘***’ 0.001 ‘**’ 0.01 ‘*’ 0.05 ‘.’ 0.1 ‘ ’ 1\n",
       "\n",
       "Residual standard error: 0.08638 on 8 degrees of freedom\n",
       "Multiple R-squared:  0.9861,\tAdjusted R-squared:  0.9809 \n",
       "F-statistic: 189.8 on 3 and 8 DF,  p-value: 9.026e-08\n"
      ]
     },
     "execution_count": 13,
     "metadata": {
     },
     "output_type": "execute_result"
    }
   ],
   "source": [
    "relation3<-lm(y~x+I(x^2)+I(x^3))\n",
    "print(relation3)\n",
    "summary(relation3)"
   ]
  },
  {
   "cell_type": "code",
   "execution_count": 14,
   "metadata": {
    "collapsed": false
   },
   "outputs": [
    {
     "data": {
      "image/png": "[encoded data removed]",
      "text/plain": [
       "Plot with title “Linear Regression Example”"
      ]
     },
     "execution_count": 14,
     "metadata": {
      "image/png": {
       "height": 420,
       "width": 420
      }
     },
     "output_type": "execute_result"
    }
   ],
   "source": [
    "x_seq <- seq(from=1,to=12, by=0.1)\n",
    "new_relation3<-list(0)\n",
    "for (i in 1:length(x_seq)) {\n",
    "    x_new <- data.frame(x=x_seq[i])\n",
    "    new_relation3[i]<-predict(relation3, x_new)\n",
    "}\n",
    "plot(x,y,col=\"blue\", main=\"Linear Regression Example\",lines(x_seq, new_relation3),cex=1.3,pch=16,xlab=\"x\",ylab=\"y\")"
   ]
  },
  {
   "cell_type": "code",
   "execution_count": 15,
   "metadata": {
    "collapsed": false
   },
   "outputs": [
    {
     "data": {
      "text/html": [
       "<table class=\"dataframe\">\n",
       "<caption>A matrix: 4 × 2 of type dbl</caption>\n",
       "<thead>\n",
       "\t<tr><th></th><th scope=col>2.5 %</th><th scope=col>97.5 %</th></tr>\n",
       "</thead>\n",
       "<tbody>\n",
       "\t<tr><th scope=row>(Intercept)</th><td> 4.780169623</td><td>5.431951589</td></tr>\n",
       "\t<tr><th scope=row>x</th><td>-0.110961453</td><td>0.305822148</td></tr>\n",
       "\t<tr><th scope=row>I(x^2)</th><td>-0.025219491</td><td>0.047780263</td></tr>\n",
       "\t<tr><th scope=row>I(x^3)</th><td>-0.002336413</td><td>0.001365162</td></tr>\n",
       "</tbody>\n",
       "</table>\n"
      ],
      "text/latex": [
       "A matrix: 4 × 2 of type dbl\n",
       "\\begin{tabular}{r|ll}\n",
       "  & 2.5 \\% & 97.5 \\%\\\\\n",
       "\\hline\n",
       "\t(Intercept) &  4.780169623 & 5.431951589\\\\\n",
       "\tx & -0.110961453 & 0.305822148\\\\\n",
       "\tI(x\\textasciicircum{}2) & -0.025219491 & 0.047780263\\\\\n",
       "\tI(x\\textasciicircum{}3) & -0.002336413 & 0.001365162\\\\\n",
       "\\end{tabular}\n"
      ],
      "text/markdown": [
       "\n",
       "A matrix: 4 × 2 of type dbl\n",
       "\n",
       "| <!--/--> | 2.5 % | 97.5 % |\n",
       "|---|---|---|\n",
       "| (Intercept) |  4.780169623 | 5.431951589 |\n",
       "| x | -0.110961453 | 0.305822148 |\n",
       "| I(x^2) | -0.025219491 | 0.047780263 |\n",
       "| I(x^3) | -0.002336413 | 0.001365162 |\n",
       "\n"
      ],
      "text/plain": [
       "            2.5 %        97.5 %     \n",
       "(Intercept)  4.780169623 5.431951589\n",
       "x           -0.110961453 0.305822148\n",
       "I(x^2)      -0.025219491 0.047780263\n",
       "I(x^3)      -0.002336413 0.001365162"
      ]
     },
     "execution_count": 15,
     "metadata": {
     },
     "output_type": "execute_result"
    }
   ],
   "source": [
    "confint(relation3, level=0.95)"
   ]
  },
  {
   "cell_type": "code",
   "execution_count": 16,
   "metadata": {
    "collapsed": false
   },
   "outputs": [
    {
     "data": {
      "image/png": "[encoded data removed]",
      "text/plain": [
       "plot without title"
      ]
     },
     "execution_count": 16,
     "metadata": {
      "image/png": {
       "height": 420,
       "width": 420
      }
     },
     "output_type": "execute_result"
    }
   ],
   "source": [
    "plot(fitted(relation3), residuals(relation3))"
   ]
  },
  {
   "cell_type": "code",
   "execution_count": 18,
   "metadata": {
    "collapsed": false
   },
   "outputs": [
    {
     "name": "stdout",
     "output_type": "stream",
     "text": [
      "       1 \n",
      "5.991841 \n"
     ]
    }
   ],
   "source": [
    "prediction<-predict(relation3,data.frame(x=6))\n",
    "print(prediction)"
   ]
  },
  {
   "cell_type": "code",
   "execution_count": 0,
   "metadata": {
    "collapsed": false
   },
   "outputs": [
   ],
   "source": [
   ]
  }
 ],
 "metadata": {
  "kernelspec": {
   "display_name": "R (system-wide)",
   "language": "r",
   "metadata": {
    "cocalc": {
     "description": "R statistical programming language",
     "priority": 10,
     "url": "https://www.r-project.org/"
    }
   },
   "name": "ir",
   "resource_dir": "/ext/jupyter/kernels/ir"
  },
  "language_info": {
   "codemirror_mode": "r",
   "file_extension": ".r",
   "mimetype": "text/x-r-source",
   "name": "R",
   "pygments_lexer": "r",
   "version": "4.1.1"
  }
 },
 "nbformat": 4,
 "nbformat_minor": 4
}